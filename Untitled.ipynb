{
 "cells": [
  {
   "cell_type": "code",
   "execution_count": 1,
   "metadata": {},
   "outputs": [],
   "source": [
    "import pandas as pd\n",
    "import numpy as np\n",
    "from sklearn.model_selection import train_test_split, GridSearchCV\n",
    "from sklearn import metrics\n",
    "from sklearn.ensemble import RandomForestClassifier\n",
    "import matplotlib.pyplot as plt\n",
    "\n",
    "DATASET_PATH = './diabetes.csv'"
   ]
  },
  {
   "cell_type": "markdown",
   "metadata": {},
   "source": [
    "## Подготовка датасета ##\n",
    "\n",
    "В качестве тестовых данных был выбран датасет, направленный на распознавание диабета\n",
    "\n",
    "https://www.kaggle.com/uciml/pima-indians-diabetes-database"
   ]
  },
  {
   "cell_type": "code",
   "execution_count": 2,
   "metadata": {},
   "outputs": [
    {
     "data": {
      "text/html": [
       "<div>\n",
       "<style scoped>\n",
       "    .dataframe tbody tr th:only-of-type {\n",
       "        vertical-align: middle;\n",
       "    }\n",
       "\n",
       "    .dataframe tbody tr th {\n",
       "        vertical-align: top;\n",
       "    }\n",
       "\n",
       "    .dataframe thead th {\n",
       "        text-align: right;\n",
       "    }\n",
       "</style>\n",
       "<table border=\"1\" class=\"dataframe\">\n",
       "  <thead>\n",
       "    <tr style=\"text-align: right;\">\n",
       "      <th></th>\n",
       "      <th>Pregnancies</th>\n",
       "      <th>Glucose</th>\n",
       "      <th>BloodPressure</th>\n",
       "      <th>SkinThickness</th>\n",
       "      <th>Insulin</th>\n",
       "      <th>BMI</th>\n",
       "      <th>DiabetesPedigreeFunction</th>\n",
       "      <th>Age</th>\n",
       "      <th>Outcome</th>\n",
       "    </tr>\n",
       "  </thead>\n",
       "  <tbody>\n",
       "    <tr>\n",
       "      <th>0</th>\n",
       "      <td>6</td>\n",
       "      <td>148</td>\n",
       "      <td>72</td>\n",
       "      <td>35</td>\n",
       "      <td>0</td>\n",
       "      <td>33.6</td>\n",
       "      <td>0.627</td>\n",
       "      <td>50</td>\n",
       "      <td>1</td>\n",
       "    </tr>\n",
       "    <tr>\n",
       "      <th>1</th>\n",
       "      <td>1</td>\n",
       "      <td>85</td>\n",
       "      <td>66</td>\n",
       "      <td>29</td>\n",
       "      <td>0</td>\n",
       "      <td>26.6</td>\n",
       "      <td>0.351</td>\n",
       "      <td>31</td>\n",
       "      <td>0</td>\n",
       "    </tr>\n",
       "    <tr>\n",
       "      <th>2</th>\n",
       "      <td>8</td>\n",
       "      <td>183</td>\n",
       "      <td>64</td>\n",
       "      <td>0</td>\n",
       "      <td>0</td>\n",
       "      <td>23.3</td>\n",
       "      <td>0.672</td>\n",
       "      <td>32</td>\n",
       "      <td>1</td>\n",
       "    </tr>\n",
       "    <tr>\n",
       "      <th>3</th>\n",
       "      <td>1</td>\n",
       "      <td>89</td>\n",
       "      <td>66</td>\n",
       "      <td>23</td>\n",
       "      <td>94</td>\n",
       "      <td>28.1</td>\n",
       "      <td>0.167</td>\n",
       "      <td>21</td>\n",
       "      <td>0</td>\n",
       "    </tr>\n",
       "    <tr>\n",
       "      <th>4</th>\n",
       "      <td>0</td>\n",
       "      <td>137</td>\n",
       "      <td>40</td>\n",
       "      <td>35</td>\n",
       "      <td>168</td>\n",
       "      <td>43.1</td>\n",
       "      <td>2.288</td>\n",
       "      <td>33</td>\n",
       "      <td>1</td>\n",
       "    </tr>\n",
       "  </tbody>\n",
       "</table>\n",
       "</div>"
      ],
      "text/plain": [
       "   Pregnancies  Glucose  BloodPressure  SkinThickness  Insulin   BMI  \\\n",
       "0            6      148             72             35        0  33.6   \n",
       "1            1       85             66             29        0  26.6   \n",
       "2            8      183             64              0        0  23.3   \n",
       "3            1       89             66             23       94  28.1   \n",
       "4            0      137             40             35      168  43.1   \n",
       "\n",
       "   DiabetesPedigreeFunction  Age  Outcome  \n",
       "0                     0.627   50        1  \n",
       "1                     0.351   31        0  \n",
       "2                     0.672   32        1  \n",
       "3                     0.167   21        0  \n",
       "4                     2.288   33        1  "
      ]
     },
     "execution_count": 2,
     "metadata": {},
     "output_type": "execute_result"
    }
   ],
   "source": [
    "df = pd.read_csv(DATASET_PATH)\n",
    "df.head()"
   ]
  },
  {
   "cell_type": "markdown",
   "metadata": {},
   "source": [
    "Как видно из верхних 5 строк, датасет имеет вещественные признаки. Поэтому необходимо их перевести в несколько бинарных\n",
    "\n",
    "Pregnancies - количество беременностей разбиваем на 3 группы. Бездетные, имеются дети и многодетные\n",
    "\n",
    "Большинство параметров либо удаляем из-за ненадобности, либо разбиваем по нормам врачей\n",
    "\n",
    "Age - возраст разбиваем по условному разбиению людей на "
   ]
  },
  {
   "cell_type": "code",
   "execution_count": 3,
   "metadata": {},
   "outputs": [
    {
     "name": "stdout",
     "output_type": "stream",
     "text": [
      "(652, 31) (652,) (116, 31) (116,)\n"
     ]
    }
   ],
   "source": [
    "# Pregnancies\n",
    "df['Pregnancies == 0'] = (df['Pregnancies'] == 0)\n",
    "df['0 < Pregnancies <= 2'] = ((0 < df['Pregnancies']) & (df['Pregnancies'] <= 2))\n",
    "df['2 < Pregnancies <= 4'] = ((2 < df['Pregnancies']) & (df['Pregnancies'] <= 4))\n",
    "df['4 < Pregnancies <= 6'] = ((4 < df['Pregnancies']) & (df['Pregnancies'] <= 6))\n",
    "df['6 < Pregnancies <= 8'] = ((6 < df['Pregnancies']) & (df['Pregnancies'] <= 8))\n",
    "df['Pregnancies > 8'] = (8 < df['Pregnancies'])\n",
    "del df['Pregnancies']\n",
    "\n",
    "# Glucose\n",
    "df['Glucose <= 70'] = (df['Glucose'] <= 70)\n",
    "df['70 < Glucose <= 100'] = ((70 < df['Glucose']) & (df['Glucose'] <= 100))\n",
    "df['100 < Glucose <= 122'] = ((100 < df['Glucose']) & (df['Glucose'] <= 122))\n",
    "df['122 < Glucose'] = (122 < df['Glucose'])\n",
    "del df['Glucose']\n",
    "\n",
    "# BloodPressure\n",
    "df['Be <= 61'] = (df['BloodPressure'] <= 61)\n",
    "df['61 < Be <= 75'] = ((61 < df['BloodPressure']) & (df['BloodPressure'] <= 75))\n",
    "df['75 < Be <= 85'] = ((75 < df['BloodPressure']) & (df['BloodPressure'] <= 85))\n",
    "df['85 < Be'] = (85 < df['BloodPressure'])\n",
    "del df['BloodPressure']\n",
    "\n",
    "# SkinThickness\n",
    "df['Ss <= 19.8'] = (df['SkinThickness'] <= 19.8)\n",
    "df['19.8 < Ss <= 39.6'] = ((19.8 < df['SkinThickness']) & (df['SkinThickness'] <= 39.6))\n",
    "df['39.6 < Ss'] = (39.6 < df['SkinThickness'])\n",
    "del df['SkinThickness']\n",
    "\n",
    "# Insulin\n",
    "df['Insulin <= 42.3'] = (df['Insulin'] <= 42.3)\n",
    "df['42.3 < Insulin <= 84.6'] = ((42.3 < df['Insulin']) & (df['Insulin'] <= 84.6))\n",
    "df['84.6 < Insulin <= 100'] = ((84.6 < df['Insulin']) & (df['Insulin'] <= 100))\n",
    "df['100 < Insulin <= 169.2'] = ((100 < df['Insulin']) & (df['Insulin'] <= 169.2))\n",
    "df['169.2 < Insulin'] = (169.2 < df['Insulin'])\n",
    "del df['Insulin']\n",
    "\n",
    "# BMI\n",
    "del df['BMI']\n",
    "\n",
    "# DiabetesPedigreeFunction\n",
    "df['Dn <= 0.31'] = (df['DiabetesPedigreeFunction'] <= 0.31)\n",
    "df['0.31 < Dn <= 0.55'] = ((0.31 < df['DiabetesPedigreeFunction']) & (df['DiabetesPedigreeFunction'] <= 0.55))\n",
    "df['0.55 < Dn <= 0.65'] = ((0.55 < df['DiabetesPedigreeFunction']) & (df['DiabetesPedigreeFunction'] <= 0.65))\n",
    "df['0.65 < Dn <= 0.78'] = ((0.65 < df['DiabetesPedigreeFunction']) & (df['DiabetesPedigreeFunction'] <= 0.78))\n",
    "df['0.78 < Dn'] = (0.78 < df['DiabetesPedigreeFunction'])\n",
    "del df['DiabetesPedigreeFunction']\n",
    "\n",
    "# Age\n",
    "df['Age <= 27'] = (df['Age'] <= 27)\n",
    "df['27 < Age <= 39'] = ((27 < df['Age']) & (df['Age'] <= 39))\n",
    "df['39 < Age <= 57'] = ((39 < df['Age']) & (df['Age'] <= 57))\n",
    "df['57 < Age'] = (57 < df['Age'])\n",
    "del df['Age']\n",
    "\n",
    "target = df['Outcome'].values\n",
    "del df['Outcome']\n",
    "data = np.array(df.values, dtype=np.int64)\n",
    "\n",
    "X_train, X_test, Y_train, Y_test = train_test_split(data, target, test_size=0.15)\n",
    "print(X_train.shape, Y_train.shape, X_test.shape, Y_test.shape)"
   ]
  },
  {
   "cell_type": "markdown",
   "metadata": {},
   "source": [
    "## Обучение базовой модели ##\n",
    "\n",
    "В качестве baseline был выбран RandomForest\n",
    "\n",
    "Поверх случайных деревьев навесим GridSearch. Таким образом добавим кросс-валидацию, а также найдем лучше параметры для них"
   ]
  },
  {
   "cell_type": "code",
   "execution_count": 4,
   "metadata": {},
   "outputs": [
    {
     "name": "stdout",
     "output_type": "stream",
     "text": [
      "Fitting 3 folds for each of 352 candidates, totalling 1056 fits\n"
     ]
    },
    {
     "name": "stderr",
     "output_type": "stream",
     "text": [
      "[Parallel(n_jobs=-1)]: Using backend LokyBackend with 12 concurrent workers.\n",
      "[Parallel(n_jobs=-1)]: Done  17 tasks      | elapsed:    1.1s\n",
      "[Parallel(n_jobs=-1)]: Done 1056 out of 1056 | elapsed:    4.2s finished\n"
     ]
    }
   ],
   "source": [
    "model = RandomForestClassifier()\n",
    "param_grid = {\n",
    "    'n_estimators': np.arange(3, 25, 1),\n",
    "    'max_depth': np.arange(4, 6, 1),\n",
    "    'min_samples_split': np.arange(2, 9, 2),\n",
    "    'criterion': ['gini', 'entropy']\n",
    "}\n",
    "gs = GridSearchCV(\n",
    "    model,\n",
    "    param_grid=param_grid,\n",
    "    scoring='accuracy',\n",
    "    n_jobs=-1,\n",
    "    cv=3,\n",
    "    verbose=2\n",
    ")\n",
    "gs.fit(X_train, Y_train)\n",
    "modelBaseline = gs.best_estimator_"
   ]
  },
  {
   "cell_type": "markdown",
   "metadata": {},
   "source": [
    "## Обучение модели на основе алгоритма GALOIS ##\n",
    "\n",
    "Алгоритм был взят из http://www.machinelearning.ru/wiki/images/6/6e/2015_417_KolmakovEA.pdf\n",
    "\n",
    "Обучение занимает достаточно много времени вследствие неоптимальности модели"
   ]
  },
  {
   "cell_type": "code",
   "execution_count": 5,
   "metadata": {},
   "outputs": [],
   "source": [
    "class CloseByOneAlgorithm:\n",
    "\n",
    "    def __init__(self):\n",
    "        self.G = None\n",
    "        self.M = None\n",
    "        self.I = None\n",
    "        self.L = None\n",
    "\n",
    "    def __call__(self, context):\n",
    "        G, M = context.shape\n",
    "        I = context\n",
    "        # ({0, ... , G-1}, {0, ... , M-1}, I) - context\n",
    "        self.G = set(np.arange(G))\n",
    "        self.M = set(np.arange(M))\n",
    "        self.I = (I == 1)\n",
    "        self.L = [\n",
    "            (set(), self.M)\n",
    "        ]\n",
    "        for g in range(G):\n",
    "            D = self.__close_g_once(g)\n",
    "            C = self.__close_M(D)\n",
    "            self.__process(set([g]), g, (C, D))\n",
    "        return self.L\n",
    "\n",
    "    def __close_g_once(self, g):\n",
    "        return set(np.where(self.I[g])[0])\n",
    "\n",
    "    def __close_M(self, Y: set):\n",
    "        return set(np.where(np.all(self.I[:, list(Y)], axis=1))[0])\n",
    "\n",
    "    def __process(self, A, g, P):\n",
    "        C, D = P\n",
    "        dist = C - A\n",
    "        if len(dist) > 0 and min(dist) < g:\n",
    "            return\n",
    "        self.L.append(P)\n",
    "        for f in (self.G - C):\n",
    "            if f <= g:\n",
    "                continue\n",
    "            Z = set.union(C, set([f]))\n",
    "            Y = set.intersection(D, self.__close_g_once(f))\n",
    "            X = self.__close_M(Y)\n",
    "            self.__process(Z, f, (X, Y))"
   ]
  },
  {
   "cell_type": "code",
   "execution_count": 6,
   "metadata": {},
   "outputs": [],
   "source": [
    "class modelGALOIS():\n",
    "\n",
    "    def __init__(self):\n",
    "        self.concepts = None\n",
    "        self.Y = None\n",
    "\n",
    "    def fit(self, X: np.ndarray, Y: np.ndarray):\n",
    "        alg = CloseByOneAlgorithm()\n",
    "        L = alg(X)\n",
    "        M = len(X[0])\n",
    "        self.concepts = []\n",
    "        self.marks = []\n",
    "        for A, B in L:\n",
    "            if len(A) == 0:\n",
    "                continue\n",
    "            mark = Y[A.__iter__().__next__()]\n",
    "            if (mark == Y[list(A)]).all():\n",
    "                new_row = np.zeros(M)\n",
    "                new_row[list(B)] = 1\n",
    "                self.concepts.append(new_row)\n",
    "                self.marks.append(mark)\n",
    "        self.concepts = np.array(self.concepts)\n",
    "        self.marks = np.array(self.marks)\n",
    "\n",
    "    def predict(self, X: np.ndarray):\n",
    "        X_t = (1 - X).T\n",
    "        res = self.concepts @ X_t\n",
    "        idx = np.argmin(res, axis=0)\n",
    "        return self.marks[idx]"
   ]
  },
  {
   "cell_type": "code",
   "execution_count": 7,
   "metadata": {},
   "outputs": [],
   "source": [
    "modelG = modelGALOIS()\n",
    "modelG.fit(X_train, Y_train)"
   ]
  },
  {
   "cell_type": "markdown",
   "metadata": {},
   "source": [
    "## Сравнение моделей ##"
   ]
  },
  {
   "cell_type": "code",
   "execution_count": 8,
   "metadata": {},
   "outputs": [],
   "source": [
    "Y_pred_bl = modelBaseline.predict(X_test)\n",
    "Y_pred_g = modelG.predict(X_test)"
   ]
  },
  {
   "cell_type": "markdown",
   "metadata": {},
   "source": [
    "### Сравнение частот ###\n",
    "\n",
    "|               | 0_test | 1_test |\n",
    "| ------------- |:-------------:| -----:|\n",
    "| 0_pred | TN | FP |\n",
    "| 1_pred | FN | TP |"
   ]
  },
  {
   "cell_type": "code",
   "execution_count": 9,
   "metadata": {},
   "outputs": [
    {
     "data": {
      "text/plain": [
       "array([[0.68888889, 0.31111111],\n",
       "       [0.23076923, 0.76923077]])"
      ]
     },
     "execution_count": 9,
     "metadata": {},
     "output_type": "execute_result"
    }
   ],
   "source": [
    "metrics.confusion_matrix(Y_pred_bl, Y_test, normalize='true')"
   ]
  },
  {
   "cell_type": "code",
   "execution_count": 10,
   "metadata": {},
   "outputs": [
    {
     "data": {
      "text/plain": [
       "array([[0.7195122 , 0.2804878 ],\n",
       "       [0.26470588, 0.73529412]])"
      ]
     },
     "execution_count": 10,
     "metadata": {},
     "output_type": "execute_result"
    }
   ],
   "source": [
    "metrics.confusion_matrix(Y_pred_g, Y_test, normalize='true')"
   ]
  },
  {
   "cell_type": "markdown",
   "metadata": {},
   "source": [
    "### Accuracy ###"
   ]
  },
  {
   "cell_type": "code",
   "execution_count": 11,
   "metadata": {},
   "outputs": [
    {
     "data": {
      "text/plain": [
       "(0.7068965517241379, 0.7241379310344828)"
      ]
     },
     "execution_count": 11,
     "metadata": {},
     "output_type": "execute_result"
    }
   ],
   "source": [
    "metrics.accuracy_score(Y_pred_bl, Y_test), metrics.accuracy_score(Y_pred_g, Y_test)"
   ]
  },
  {
   "cell_type": "markdown",
   "metadata": {},
   "source": [
    "### Precision ###"
   ]
  },
  {
   "cell_type": "code",
   "execution_count": 12,
   "metadata": {},
   "outputs": [
    {
     "data": {
      "text/plain": [
       "(0.4166666666666667, 0.5208333333333334)"
      ]
     },
     "execution_count": 12,
     "metadata": {},
     "output_type": "execute_result"
    }
   ],
   "source": [
    "metrics.precision_score(Y_pred_bl, Y_test), metrics.precision_score(Y_pred_g, Y_test)"
   ]
  },
  {
   "cell_type": "markdown",
   "metadata": {},
   "source": [
    "### Recall ###"
   ]
  },
  {
   "cell_type": "code",
   "execution_count": 13,
   "metadata": {},
   "outputs": [
    {
     "data": {
      "text/plain": [
       "(0.7692307692307693, 0.7352941176470589)"
      ]
     },
     "execution_count": 13,
     "metadata": {},
     "output_type": "execute_result"
    }
   ],
   "source": [
    "metrics.recall_score(Y_pred_bl, Y_test), metrics.recall_score(Y_pred_g, Y_test)"
   ]
  },
  {
   "cell_type": "markdown",
   "metadata": {},
   "source": [
    "## Вывод ##\n",
    "\n",
    "Исходя из сравнения можно сделать вывод: использование решеток обоснованно для специфичных датасетов\n",
    "\n",
    "В данном конкретном случае качество решеток немного лучше"
   ]
  }
 ],
 "metadata": {
  "kernelspec": {
   "display_name": "Python 3",
   "language": "python",
   "name": "python3"
  },
  "language_info": {
   "codemirror_mode": {
    "name": "ipython",
    "version": 3
   },
   "file_extension": ".py",
   "mimetype": "text/x-python",
   "name": "python",
   "nbconvert_exporter": "python",
   "pygments_lexer": "ipython3",
   "version": "3.7.4"
  }
 },
 "nbformat": 4,
 "nbformat_minor": 2
}
